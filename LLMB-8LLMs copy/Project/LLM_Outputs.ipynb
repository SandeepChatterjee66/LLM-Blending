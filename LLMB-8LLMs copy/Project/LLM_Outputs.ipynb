{
 "cells": [
  {
   "cell_type": "code",
   "execution_count": 1,
   "metadata": {},
   "outputs": [
    {
     "name": "stderr",
     "output_type": "stream",
     "text": [
      "Usage:\n",
      "  ollama [flags]\n",
      "  ollama [command]\n",
      "\n",
      "Available Commands:\n",
      "  serve       Start ollama\n",
      "  create      Create a model from a Modelfile\n",
      "  show        Show information for a model\n",
      "  run         Run a model\n",
      "  pull        Pull a model from a registry\n",
      "  push        Push a model to a registry\n",
      "  list        List models\n",
      "  cp          Copy a model\n",
      "  rm          Remove a model\n",
      "  help        Help about any command\n",
      "\n",
      "Flags:\n",
      "  -h, --help      help for ollama\n",
      "  -v, --version   Show version information\n",
      "\n",
      "Use \"ollama [command] --help\" for more information about a command.\n"
     ]
    }
   ],
   "source": [
    "!ollama"
   ]
  },
  {
   "cell_type": "code",
   "execution_count": 2,
   "metadata": {},
   "outputs": [
    {
     "name": "stdout",
     "output_type": "stream",
     "text": [
      "NAME                  \tID          \tSIZE  \tMODIFIED    \n",
      "gemma:2b              \tb50d6c999e59\t1.7 GB\t3 weeks ago\t\n",
      "orca-mini:latest      \t2dbd9f439647\t2.0 GB\t3 weeks ago\t\n",
      "phi:latest            \te2fd6321a5fe\t1.6 GB\t3 weeks ago\t\n",
      "stablelm-zephyr:latest\t0a108dbd846e\t1.6 GB\t10 days ago\t\n",
      "tinyllama:latest      \t2644915ede35\t637 MB\t10 days ago\t\n"
     ]
    }
   ],
   "source": [
    "!ollama list"
   ]
  },
  {
   "cell_type": "code",
   "execution_count": 1,
   "metadata": {},
   "outputs": [],
   "source": [
    "import requests\n",
    "import json"
   ]
  },
  {
   "cell_type": "code",
   "execution_count": 2,
   "metadata": {},
   "outputs": [
    {
     "name": "stdout",
     "output_type": "stream",
     "text": [
      "ollama is working\n"
     ]
    }
   ],
   "source": [
    "check_url = 'http://localhost:11434'\n",
    "if requests.get(check_url).status_code == 200:\n",
    "    print('ollama is working')"
   ]
  },
  {
   "cell_type": "markdown",
   "metadata": {},
   "source": [
    "# Importing Dataset - Conv_Questions"
   ]
  },
  {
   "cell_type": "code",
   "execution_count": 1,
   "metadata": {},
   "outputs": [
    {
     "name": "stderr",
     "output_type": "stream",
     "text": [
      "C:\\Users\\neerz\\AppData\\Local\\Packages\\PythonSoftwareFoundation.Python.3.10_qbz5n2kfra8p0\\LocalCache\\local-packages\\Python310\\site-packages\\tqdm\\auto.py:21: TqdmWarning: IProgress not found. Please update jupyter and ipywidgets. See https://ipywidgets.readthedocs.io/en/stable/user_install.html\n",
      "  from .autonotebook import tqdm as notebook_tqdm\n",
      "Downloading data: 100%|██████████| 585k/585k [00:01<00:00, 529kB/s]\n",
      "Downloading data: 100%|██████████| 121k/121k [00:00<00:00, 437kB/s]\n",
      "Downloading data: 100%|██████████| 114k/114k [00:00<00:00, 164kB/s]\n",
      "Generating train split: 100%|██████████| 6720/6720 [00:00<00:00, 582457.95 examples/s]\n",
      "Generating validation split: 100%|██████████| 2240/2240 [00:00<00:00, 457100.37 examples/s]\n",
      "Generating test split: 100%|██████████| 2240/2240 [00:00<00:00, 427017.59 examples/s]\n"
     ]
    }
   ],
   "source": [
    "from datasets import load_dataset\n",
    "dataset = load_dataset(\"conv_questions\")"
   ]
  },
  {
   "cell_type": "code",
   "execution_count": 3,
   "metadata": {},
   "outputs": [],
   "source": [
    "test = dataset['test']"
   ]
  },
  {
   "cell_type": "code",
   "execution_count": null,
   "metadata": {},
   "outputs": [],
   "source": []
  },
  {
   "cell_type": "code",
   "execution_count": 24,
   "metadata": {},
   "outputs": [],
   "source": [
    "import random\n",
    "test = []\n",
    "test = random.sample(list(dataset['test']), 100)\n",
    "inputs = []\n",
    "ref = []\n",
    "for i in range(len(test)):\n",
    "    inputs.append(test[i]['questions'])\n",
    "    ref.append(test[i]['answer_texts'])\n",
    "with open('ref.txt', 'w') as f:\n",
    "    for line in ref:\n",
    "        f.write(f\"{line}\\n\")\n",
    "\n",
    "with open('ref.txt', 'r') as input_file:\n",
    "    # Read the content\n",
    "    content = input_file.read()\n",
    "\n",
    "# Replace commas with new lines\n",
    "content = content.replace('], [', ']\\n[')\n",
    "\n",
    "# Open the output file\n",
    "with open('ref.txt', 'w') as output_file:\n",
    "    # Write the modified content\n",
    "    output_file.write(content)"
   ]
  },
  {
   "cell_type": "code",
   "execution_count": 26,
   "metadata": {},
   "outputs": [
    {
     "name": "stdout",
     "output_type": "stream",
     "text": [
      "[['In which nation was Son Heung-min born?', 'When was he born?', \"What's his club team?\", 'What league is Tottenham in?', 'Has he ever played in the German league?'], ['What is the country of origin of the Los Angeles Galaxy?', 'When was the club founded?', 'Who is the current head coach?', 'What league are they in?', 'Name of owner?'], ['What was the first year Twilight Zone was on air?', 'What was the first episode?', 'Did Rod Serling write the majority of the episodes?', 'Who narrated the show?', 'Which other show did he create?'], [\"What's the episode with Sneed's Feed & Seed in The Simpsons?\", 'What season was E-I-E-I-(Annoyed Grunt)?', 'Who wrote E-I-E-I-(Annoyed Grunt)?', 'When did E-I-E-I-(Annoyed Grunt) first air?', 'What episode aired before E-I-E-I-(Annoyed Grunt)?'], ['What year was the movie Grease released?', 'Which actor played Danny?', 'Which actress played Sandy?', 'Who is the director?', 'What is the name of the second moive?'], ['What is the name Tupac Shakur was born under?', 'Place of birth?', 'How did Tupac Shakur die?', \"Who was Tupac Shakur's mom?\", 'Date of death?'], ['In what television series did Eric Idle and John Cleese star in?', 'How many episodes did it run?', 'How many seasons?', 'Who was the producer?', 'What was the first show he produced?'], ['What network was Dexter on?', 'Year of debut?', 'And who was the star of the show?', 'How many season was it?', 'Main location of the show?'], ['Who is the lead singer?', 'When did they first start?', 'What type of music genre are they?', 'What record label are they under?', 'When was the last album put out by the band?'], ['What year was Janis Joplin born?', 'What is the name of her birthplace?', 'When did she get the Grammy Lifetime Achievement Award?', 'Does she have a nickname?', \"What's the name of the place she is buried?\"], ['What is the name Tupac Shakur was born under?', 'Place of birth?', 'How did Tupac Shakur die?', \"Tupac Shakur's mother?\", 'When did Tupac Shakur die?'], ['When did the show Seinfeld come out?', 'What network was it on?', 'What city was it in?', 'What actor played Kramer?', 'What actor played George?'], ['In which book did Jean Val Jean appear?', 'Who was the author?', 'What was the original publishing year?', 'Did the character Cosette appear?', 'What revolution was featured?'], ['The TV show Arrested Development was first broadcast in what year?', 'What actor plays Michael Bluth?', 'Did Bateman star in the movie Game Night?', \"Who was the show's creator?\", 'Who plays Lindsay Bluth?'], ['Which book featured the character Jean Val Jean?', 'Who was the author?', 'What was the original publishing year?', 'Is Cosette a character in the book?', 'What revolution takes place?'], ['What club did David Beckham start his career with?', 'What about from 2007 to 2012?', 'What country is it in?', 'What league is the club in?', 'Who won the MLS Cup in 2018?'], ['Which soccer club did David Beckham make his debut on?', 'What club was he with between 2007 and 2012?', 'What country is the club based in?', 'What league?', 'Who won the MLS Cup in 2018?'], ['Where is Lionel Messi from?', 'What position does he play?', 'What team is he on?', 'Who is he married to?', 'What language does he speak?'], ['What country is Lionel Messi from?', 'and when was he born?', 'and what place was he born in?', 'is he married?', 'did he go to jail?'], ['What is the creation date of The Cranberries?', 'Who was the singer?', 'Who played guitar?', 'Who played drums?', 'When did they disband?'], ['Who was the director of the movie Interstellar?', 'Who is the main charceter in the movie', 'What type of movie is this?', 'Who composed the music for the movie?', 'How much as the movie made in USD?'], ['Who wrote the Harry Potter books?', 'What book came out first?', 'When was it published?', 'Who is the main character?', 'What came out last?'], ['On what network did the TV series Bull preview?', 'name of the actor who plays bull?', 'and the first episode was?', 'and the series creator?', \"what's the name of the director?\"], ['What type of show is it?', 'What is the name of Nathan Fillion character?', 'What is the name of the network where airs?', 'Who directors the show?', 'What actress plays Lucy Chen?'], ['When did the movie Grease come out?', 'Who play Danny Zuko?', 'Which actress played Sandy?', 'Who is the director?', 'What is the name of the second moive?'], ['What year was the movie Grease released?', 'Who play Danny Zuko?', 'Who played Sandy?', 'Who is the director?', 'Was there are second movie?'], ['What year was Janis Joplin born?', 'Where was she born?', 'When was she award the Grammy Lifetime Achievement Award?', 'Does she have a nickname?', \"What's the name of the place she is buried?\"], ['Which author wrote The Catcher in the Rye?', 'Is the author a man or woman?', 'And where is the author from originally?', 'What year did it come out?', \"What's the main character's name?\"], ['What country is Son Heung-min from originally?', 'And his date of birth?', \"What's his club team?\", 'Which league does that team compete in?', 'Did he also used to play in Germany?'], ['What is the name of the person who created Saved by the Bell?', 'What year did it first air?', 'What network was it on?', \"What's the guy's name that played A.C. Slater?\", \"Did he host the show America's Best Dance Crew?\"], ['What is the release date of The Wonderful Wizard of Oz?', 'Who wrote it?', 'Who published it?', 'Who illustrated it?', 'What was the next book in the series?'], ['What is the middle name of singer Christina Aguilera?', 'And where was she born?', 'Did she get married?', 'Who was she married to?', 'Are they still together?'], ['Who is the lead singer?', 'What year did the band start up?', 'What type of music genre are they?', 'What label are they under?', 'When was the last cd they had?'], ['What is the main character in the book?', 'Who wrote this book?', 'Was this made into a movie?', 'Is this part of a series?', 'When was this published?'], ['What is the release date of the first episode of Game of Thrones?', 'Who played as Jon Snow?', 'Who played as Daenerys Targaryen?', 'What was the network that broadcast it?', 'Actors name that plays Arya Stark?'], ['Who is the author of the Harry Potter series?', 'What was the year of publication for the first book?', 'The first book was called what?', 'It was set in what country?', \"What's the longest book?\"], ['What is the name of the writer of The Secret Garden?', 'What location is the book set in?', 'When was the book published?', 'What kind of book is it?', 'What magazine first published the book?'], ['Who wrote Harry Potter?', 'When was it first published?', 'The first book was called what?', 'What country was the book set in?', \"What's the longest book?\"], ['What was the name of the first soccer team he played for professionally?', 'What date was he born?', 'What is his job?', 'Where was Pele born at?', 'When was his first FIFA World Cup?'], ['What was the first year Friends aired?', 'Who played Rachel Green?', 'Who played as Monica Geller?', 'Who played as Joey Tribbiani?', 'Who played Ross Geller?'], ['What year was the movie Grease released?', 'Who play Danny Zuko?', 'Who played Sandy?', 'Which director directed the movie?', 'What is the name of the second moive?'], ['When did Major League Soccer form?', 'What country was it in?', 'Who was the organizer?', 'What is the league below that??', 'When does the season end?'], ['What is the release date of The Wonderful Wizard of Oz?', 'Who was the author?', 'Who published it?', 'Who was the illustrator?', 'What was the next book in the series?'], ['What date was the 2001 film The Fast and the Furious released in theaters?', 'Dominic Toretto is played by what actor?', 'What number of these movies were made?', 'Who directed it?', 'Did he direct Stealth?'], ['Which book featured the character Jean Val Jean?', 'Who wrote it?', 'What was the original publishing year?', 'Is Cosette a character in the book?', 'What revolution was featured?'], ['When was The Wonderful Wizard of Oz published?', 'Who wrote it?', 'Who published it?', 'Who illustrated it?', 'What was the next book in the series?'], ['Head coach of Orlando City SC?', 'Year of inception?', 'Team Jason Kreis was last associated?', 'Which league is Real Salt Lake a part of?', 'Marjor League Soccer start year?'], ['Where is Lionel Messi from?', 'What position does he play?', 'What team does he play on?', 'Who is his wife?', 'Do you know what language he speaks?'], ['What is the name of the writer of The Secret Garden?', 'What location is the book set in?', 'What year did the book come out?', 'What kind of book is it?', 'Where was the book first published?'], ['Where was Lionel Messi born?', 'What does he do on the field?', 'What team is he on?', 'Who is his wife?', 'What language does he speak?'], ['When did the first episode of Game of Throne air?', 'Who played as Jon Snow?', 'Who played the role of Daenerys Targaryen?', 'What was the network that broadcast it?', 'Actors name that plays Arya Stark?'], ['Who is the author of The Great Gatsby?', 'What year did Fitzgerald write The Great Gatsby?', 'Who was Fitzgerald married to?', 'Where was the Fitzgerald wedding?', \"What city is St. Patrick's Cathedral in?\"], ['Who was the director of the movie Willy Wonka and the Chocolate Factory?', 'Is Charlie Bucket  in the film?', 'Is it based on a book by Dick King-Smith?', 'Who got shrunk?', 'What year did it come out?'], [\"What's the birth name of deadmau5?\", 'Where was he born?', 'What genre is his music?', 'What label is he on?', 'When did he start releasing music?'], ['Who is the author that wrote the book Moby-Dick?', 'When was he born?', 'And where is he from originally?', 'When was the novel first released?', 'Did they make a movie based on the book?'], ['What was the first movie made by Pixar?', 'Director of the movie?', 'When was it released?', 'Did it get an Oscar?', 'What was the run time?'], [\"In which episode did Homer Simpson visit a store called Sneed's Feed & Seed?\", 'What season was E-I-E-I-(Annoyed Grunt) from?', 'Who wrote the episode?', 'When did E-I-E-I-(Annoyed Grunt) first air?', 'What was the previous episode?'], ['What year did the movie Kindergarten Cop come out?', \"and what's the name of the main actor?\", 'where was it made?', \"and what was it's box office take?\", 'who distributed it?'], ['Who was the author of Fight Club?', 'Where was this movie filmed?', 'How long is movie?', 'Actor that plays Tyler Durden?', 'Date of publication?'], ['Head coach of Orlando City SC?', 'What year was their inception?', 'Team Jason Kreis was last associated?', 'Which league does Real Salt Lake participate in?', 'Marjor League Soccer start year?'], ['What genre is Camp Rock?', 'Who had the main role?', 'When was Lovato born?', 'When did Camp Rock come out?', \"What's the name of the Camp Rock sequel?\"], ['In which book did Jean Val Jean appear?', 'Who wrote it?', 'What year was it published originally?', 'Is Cosette a character in the book?', 'What revolution takes place?'], ['Which network originally broadcasted Lost?', 'Inception date of the American Broadcasting Company?', 'Actor that played Jack Shephard?', 'Where was Matthew Fox born?', 'Creators of Lost?'], ['When was The Silence of the Lambs released?', 'Who directed it?', 'Who was the screenwriter?', 'Who played Clarice Starling?', 'Who acted as Hannibal Lecter?'], ['On which day was the 2001 movie The Fast and the Furious originally released?', 'Dominic Toretto is played by what actor?', 'What number of these movies were made?', \"What's the name of the movie's director?\", 'Did he direct Stealth?'], ['Who directed Night of the Living Dead?', 'Genre of the movie?', 'Film setting?', 'Composer?', 'Year of release?'], ['What network was Dexter on?', 'Year of debut?', 'Who starred in it?', 'How many season was it?', 'What was the main location of it?'], ['To what genre of film does Camp Rock belong?', 'Who had the main role?', 'When was Lovato born?', 'When did Camp Rock come out?', \"What's the sequel of Camp Rock called?\"], [\"In which episode did Homer Simpson visit a store called Sneed's Feed & Seed?\", 'What season was E-I-E-I-(Annoyed Grunt)?', 'Who wrote E-I-E-I-(Annoyed Grunt)?', 'When did E-I-E-I-(Annoyed Grunt) first air?', 'What episode aired before E-I-E-I-(Annoyed Grunt)?'], ['What was the name of the first album by Metallica?', 'Who is the drummer?', 'Who is the lead singer?', 'When did they form?', 'still touring in 2018?'], ['What is the release date of The Silence of the Lambs?', 'Who directed it?', 'Who screen wrote it?', 'Who acted as Clarice Starling?', 'Who played Hannibal Lecter?'], [\"What is soccer player Tim Howard's position?\", 'What club team was he on in 2018?', \"What's his middle name?\", 'Has Howard ever scored a goal in the Premier League?', 'What team did Howard score a goal against?'], ['What is the city of birth of Avril Lavigne?', 'What country is Belleville in?', 'How tall is Avril Lavigne?', \"What was Avril Lavigne's first album?\", 'What date was Let Go released?'], ['What year was Janis Joplin born?', 'Where was she born?', 'When was she award the Grammy Lifetime Achievement Award?', 'Does she have a nickname?', 'Where is she buried?'], ['Who was the lead vocalist for the band The Clash?', 'Where is he from?', 'What was his real name?', 'What was their first album titled?', 'And how many band members did they have?'], ['What country is Son Heung-min from originally?', 'When was he born?', \"What's his club team?\", 'What league is Tottenham in?', 'Has he ever played in the German league?'], ['What year was the Wizard of Oz released?', 'Who was the main actor?', 'Who played the scarecrow?', 'And the tin man?', 'What about the dogs name?'], [\"What is the name of Metallica's first album\", 'Who is the drummer?', \"Who's the singer?\", 'What year was it formed?', 'Are they still going on tour in 2018?'], ['Where does Lionel Messi come from?', 'and when was he born?', 'and what place was he born in?', 'does he have a wife?', 'did he go to jail?'], ['What was the name of the first album by Metallica?', 'Who is the drummer?', 'Who is the lead singer?', 'When did they form?', 'Are they still going on tour in 2018?'], ['Name the director of the movie Night of the Living Dead?', 'Genre of the movie?', 'And where was the film set?', 'Name the composer?', 'And what year did it come out?'], ['What is the release date of the first episode of Game of Thrones?', 'Who played as Jon Snow?', 'Who played as Daenerys Targaryen?', 'What network did it air on?', 'Actors name that plays Arya Stark?'], ['Who is the lead singer of Gloryhammer?', \"What's the formation date of this band?\", 'Who plays the keyboard?', 'Which other band is he part of?', 'What year were they formed?'], [\"What's the episode with Sneed's Feed & Seed in The Simpsons?\", 'What season was E-I-E-I-(Annoyed Grunt) from?', 'Who wrote E-I-E-I-(Annoyed Grunt)?', 'What was the original airdate?', 'What was the previous episode?'], ['Who is the main character of book The Gunslinger?', 'What author wrote this book?', 'Was this made into a movie?', 'Is this part of a book series?', 'When was this book published?'], ['What year did the Wizard of Oz come out?', 'Who was the main actor?', 'Who was the actor who played the scarecrow?', 'What about tin man?', 'What was the dogs name?'], ['Country of this team?', 'Founding date?', 'Who is the current head coach?', 'What league does this club belong to?', 'Name of owner?'], ['What is the release date of The Wonderful Wizard of Oz?', 'Who was the author?', 'Who was the publisher?', 'Who illustrated it?', 'What was the next book in the series?'], ['Head coach of Orlando City SC?', 'What year was their inception?', 'What was the last team Jason Kreis was a part of?', 'Which league does Real Salt Lake participate in?', 'Year that Major League Soccer was created?'], ['When was The Silence of the Lambs released?', 'Who was the director?', 'Who was the screenwriter?', 'Who acted as Clarice Starling?', 'Who played Hannibal Lecter?'], ['Name the director of the movie Night of the Living Dead?', 'What genre?', 'Film setting?', 'Name the composer?', 'And what year did it come out?'], [\"What is deadmau5's real name?\", 'Where is he from?', 'What genre music does he perform?', 'What label does he publish albums on?', 'When did he start releasing music?'], ['Who wrote The Mist?', 'What is his birthday?', 'What year was it published?', 'Did it win any awards?', 'Was it nominated?'], ['What date was the 2001 film The Fast and the Furious released in theaters?', 'Dominic Toretto is played by what actor?', 'What number of these movies were made?', \"What's the name of the movie's director?\", 'Was Cohen also the director of Stealth?'], ['What year was she born?', 'What is the name of her birthplace?', 'When did she get the Grammy Lifetime Achievement Award?', 'What is her nickname?', 'Where is she buried?'], ['When were The Cranberries formed?', 'Who was the singer?', 'Who played guitar?', 'Who was the drummer?', 'What year did they disband?'], ['Country of this team?', 'When was the club founded?', 'Who is the current head coach?', 'What league are they in?', 'Name of owner?'], ['Who is the author of the book that this movie was adapted from?', 'Main filming location in movie?', 'How long is movie?', 'Who played Tyler Durden?', 'Release date?'], ['Where was Lionel Messi born?', 'What does he do on the field?', 'What team is he on?', 'Who is his wife?', 'Do you know what language he speaks?'], ['Where did Black Sabbath come from?', 'What genre?', 'Were they inducted in the Rock and Roll hall of fame?', 'Lead singer?', 'What year break up?']]\n"
     ]
    }
   ],
   "source": [
    "print(inputs)"
   ]
  },
  {
   "cell_type": "code",
   "execution_count": 28,
   "metadata": {},
   "outputs": [
    {
     "name": "stdout",
     "output_type": "stream",
     "text": [
      "[['South Korea', '8 July 1992', 'Tottenham Hotspur F.C.', 'Premier League', 'yes'], ['United States of America', '1995', 'Guillermo Barros Schelotto', 'Major League Soccer', 'Philip Anschutz'], ['1959', 'Where Is Everybody?', 'Yes', 'Rod Serling', 'Night Gallery'], ['E-I-E-I-(Annoyed Grunt)', '11', 'Ian Maxtone-Graham', '7 November 1999', 'Treehouse of Horror X'], ['13 June 1978', 'John Travolta', 'Olivia Newton-John', 'Randal Kleiser', 'Grease 2'], ['Lesane Parish Crooks', 'East Harlem', 'drive-by shooting', 'Afeni Shakur', '13 September 1996'], [\"Monty Python's Flying Circus\", '45', '4', 'Ian MacNaughton', 'B-And-B'], ['Showtime', '2007', 'Michael C. Hall', '8', 'Miami'], ['Jared Leto', '1998', 'Progressive rock', 'Universal Music Group', '2018'], ['1943', 'Port Arthur', '2005', 'Pearl', 'Pacific Ocean'], ['Lesane Parish Crooks', 'East Harlem', 'drive-by shooting', 'Afeni Shakur', '13 September 1996'], ['5 July 1989', 'Seinfeld was on NBC.', 'Seinfeld was set in New York City.', 'Michael Richards played Cosmo Kramer in Seinfeld.', 'Jason Alexander played George Costanza on Seinfeld.'], ['Les Misérables', 'Victor Hugo', '1862', 'Yes.', 'The June Rebellion'], ['2003', 'Jason Bateman', 'Yes', 'Mitchell Hurwitz', 'Portia de Rossi'], ['Les Misérables', 'Victor Hugo', '1862', 'Yes.', 'The June Rebellion'], ['Manchester United', 'LA Galaxy', 'United States of America', 'Major League Soccer', 'Atlanta United FC'], ['Manchester United', 'LA Galaxy', 'United States of America', 'Major League Soccer', 'Atlanta United FC'], ['Lionel Messi is from Argentina.', 'Lionel Messi is a forward.', 'Lionel Messi plays for FC Barcelona professionally.', 'Lionel Messi is married to Antonella Roccuzzo.', 'Lionel Messi speaks Spanish.'], ['Argentina', '24 June 1987', 'Rosario', 'yes', 'no'], ['1989', \"Dolores O'Riordan\", 'Noel Hogan', 'Fergal Lawler', '2019'], ['Christopher Nolan directed Interstellar', 'Matthew McConaughey is the main role', 'science fiction', 'Hans Zimmer', '677,463,813'], ['J. K. Rowling wrote the Harry Potter books.', \"Harry Potter and the Philosopher's Stone was the first book.\", 'The book came out 30 June 1997 in the UK.', 'The main character is Harry Potter.', 'The last book was Harry Potter and the Deathly Hallows.'], ['CBS', 'Michael Weatherly', '20 September 2016', 'Phil McGraw', 'Jeff Rona'], ['television drama; police procedural', 'John Nolan', 'American Broadcasting Company', 'Liz Friedlander', 'Alyssa Diaz'], ['13 June 1978', 'John Travolta', 'Olivia Newton-John', 'Randal Kleiser', 'Grease 2'], ['13 June 1978', 'John Travolta', 'Olivia Newton-John', 'Randal Kleiser', 'Grease 2'], ['1943', 'Port Arthur', '2005', 'Pearl', 'Pacific Ocean'], ['J. D. Salinger', 'man', 'New York City', '1951', 'Holden Caulfield'], ['South Korea', '8 July 1992', 'Tottenham Hotspur F.C.', 'Premier League', 'yes'], ['Sam Bobrick', '1989', 'NBC', 'Mario Lopez', 'yes'], ['1900', 'L. Frank Baum', 'George M. Hill Company', 'William Wallace Denslow', 'The Marvelous Land of Oz'], ['María', 'Staten Island', 'yes', 'Jordan Bratman', 'no'], ['Jared Leto', '1998', 'Progressive rock', 'Universal Music Group', '2018'], ['Roland Deschain', 'Stephen King', '2017', 'Yes', '1982'], ['17 April 2011', 'Kit Harington', 'Emilia Clarke', 'HBO', 'Maisie Williams'], ['J. K. Rowling', '1997', \"Harry Potter and the Philosopher's Stone\", 'England', 'Harry Potter and the Order of the Phoenix'], ['Frances Eliza Hodgson Burnett', 'Yorkshire', '1910', 'Adventure', 'The American Magazine'], ['J. K. Rowling', '1997', \"Harry Potter and the Philosopher's Stone\", 'England', 'Harry Potter and the Order of the Phoenix'], ['Santos F.C.', '23 October 1940', 'Minister for Sport and the Olympics', 'Três Corações', '1958'], ['1994', 'Jennifer Aniston', 'Courteney Cox', 'Matt LeBlanc', 'David Schwimmer'], ['13 June 1978', 'John Travolta', 'Olivia Newton-John', 'Randal Kleiser', 'Grease 2'], ['1993', 'United States', 'United States Soccer Federation', 'North American Soccer League (NASL)', 'November'], ['1900', 'L. Frank Baum', 'George M. Hill Company', 'William Wallace Denslow', 'The Marvelous Land of Oz'], ['22 June 2001', 'Vin Diesel', '10', 'Rob Cohen', 'yes'], ['Les Misérables', 'Victor Hugo', '1862', 'Yes.', 'The June Rebellion'], ['1900', 'L. Frank Baum', 'George M. Hill Company', 'William Wallace Denslow', 'The Marvelous Land of Oz'], ['Jason Kreis', '2013', 'Real Salt Lake', 'Major League Soccer', '1993'], ['Lionel Messi is from Argentina.', 'Lionel Messi is a forward.', 'Lionel Messi plays for FC Barcelona professionally.', 'Lionel Messi is married to Antonella Roccuzzo.', 'Lionel Messi speaks Spanish.'], ['Frances Eliza Hodgson Burnett', 'Yorkshire', '1910', 'Adventure', 'The American Magazine'], ['Lionel Messi is from Argentina.', 'Lionel Messi is a forward.', 'Lionel Messi plays for FC Barcelona professionally.', 'Lionel Messi is married to Antonella Roccuzzo.', 'Lionel Messi speaks Spanish.'], ['17 April 2011', 'Kit Harington', 'Emilia Clarke', 'HBO', 'Maisie Williams'], ['F. Scott Fitzgerald', '1925', 'Zelda Fitzgerald', \"St. Patrick's Cathedral\", 'New York City'], ['Mel Stuart', 'Yes', 'No', 'Mike Teevee', '1971'], ['Joel Thomas Zimmerman', 'deadmau5 was born in Toronto.', 'He is known for performing electronica.', 'mau5trap', 'He started in 1998.'], ['Herman Melville', '1 August 1819', 'Manhattan', '1851', 'yes'], ['Toy Story', 'John Lasseter', '22 November 1995', 'Yes', '81 minutes'], ['E-I-E-I-(Annoyed Grunt)', '11', 'Ian Maxtone-Graham', '7 November 1999', 'Treehouse of Horror X'], ['1990', 'Arnold Schwarzenegger', 'Astoria, Oregon', '202,000,000 dollars', 'Universal Pictures'], ['Chuck Palahniuk', 'Los Angeles', '139 minute', 'Brad Pitt', '11 November 1999'], ['Jason Kreis', '2013', 'Real Salt Lake', 'Major League Soccer', '1993'], ['Musical', 'Demi Lovato', '20 August 1992', '20 June 2008', 'Camp Rock 2: The Final Jam'], ['Les Misérables', 'Victor Hugo', '1862', 'Yes.', 'The June Rebellion'], ['American Broadcasting Company', '12 October 1943', 'Matthew Fox', 'Abington Township', 'Damon Lindelof;J. J. Abrams;Jeffrey Lieber'], ['30 January 1991', 'Jonathan Demme', 'Ted Tally', 'Jodie Foster', 'Anthony Hopkins'], ['22 June 2001', 'Vin Diesel', '10', 'Rob Cohen', 'yes'], ['George A. Romero', 'Zombie movie', 'Pennsylvania', 'William Loose', '1968'], ['Showtime', '2007', 'Michael C. Hall', '8', 'Miami'], ['Musical', 'Demi Lovato', '20 August 1992', '20 June 2008', 'Camp Rock 2: The Final Jam'], ['E-I-E-I-(Annoyed Grunt)', '11', 'Ian Maxtone-Graham', '7 November 1999', 'Treehouse of Horror X'], ['Power Metal', 'Lars Ulrich', 'James Hetfield', '28 October 1982', 'Yes'], ['30 January 1991', 'Jonathan Demme', 'Ted Tally', 'Jodie Foster', 'Anthony Hopkins'], ['Goalkeeper', 'Colorado Rapids', 'Matthew', 'yes', 'Bolton Wanderers F.C.'], ['Belleville', 'Canada', '157 centimetre', 'Let Go', '4 June 2002'], ['1943', 'Port Arthur', '2005', 'Pearl', 'Pacific Ocean'], ['Joe Strummer', 'Ankara, Turkey', 'John Graham Mellor', 'The Clash', '4'], ['South Korea', '8 July 1992', 'Tottenham Hotspur F.C.', 'Premier League', 'yes'], ['1939', 'Judy Garland', 'Ray Bolger', 'Jack Haley', 'Terry'], ['Power Metal', 'Lars Ulrich', 'James Hetfield', '28 October 1982', 'Yes'], ['Argentina', '24 June 1987', 'Rosario', 'yes', 'no'], ['Power Metal', 'Lars Ulrich', 'James Hetfield', '28 October 1982', 'Yes'], ['George A. Romero', 'Zombie movie', 'Pennsylvania', 'William Loose', '1968'], ['17 April 2011', 'Kit Harington', 'Emilia Clarke', 'HBO', 'Maisie Williams'], ['Thomas Winkler', '2010', 'Christopher Bowes', 'Alestorm', '2004'], ['E-I-E-I-(Annoyed Grunt)', '11', 'Ian Maxtone-Graham', '7 November 1999', 'Treehouse of Horror X'], ['Roland Deschain', 'Stephen King', '2017', 'Yes', '1982'], ['1939', 'Judy Garland', 'Ray Bolger', 'Jack Haley', 'Terry'], ['United States of America', '1995', 'Guillermo Barros Schelotto', 'Major League Soccer', 'Philip Anschutz'], ['1900', 'L. Frank Baum', 'George M. Hill Company', 'William Wallace Denslow', 'The Marvelous Land of Oz'], ['Jason Kreis', '2013', 'Real Salt Lake', 'Major League Soccer', '1993'], ['30 January 1991', 'Jonathan Demme', 'Ted Tally', 'Jodie Foster', 'Anthony Hopkins'], ['George A. Romero', 'Zombie movie', 'Pennsylvania', 'William Loose', '1968'], ['Joel Thomas Zimmerman', 'deadmau5 was born in Toronto.', 'He is known for performing electronica.', 'mau5trap', 'He started in 1998.'], ['Stephen King', '21 September 1947', '1981', 'No', 'Yes'], ['22 June 2001', 'Vin Diesel', '10', 'Rob Cohen', 'yes'], ['1943', 'Port Arthur', '2005', 'Pearl', 'Pacific Ocean'], ['1989', \"Dolores O'Riordan\", 'Noel Hogan', 'Fergal Lawler', '2019'], ['United States of America', '1995', 'Guillermo Barros Schelotto', 'Major League Soccer', 'Philip Anschutz'], ['Chuck Palahniuk', 'Los Angeles', '139 minute', 'Brad Pitt', '11 November 1999'], ['Lionel Messi is from Argentina.', 'Lionel Messi is a forward.', 'Lionel Messi plays for FC Barcelona professionally.', 'Lionel Messi is married to Antonella Roccuzzo.', 'Lionel Messi speaks Spanish.'], ['United Kingdom', 'Heavy Metal', 'Yes', 'Ozzy Osbourne', '2017']]\n"
     ]
    }
   ],
   "source": [
    "print(ref)"
   ]
  },
  {
   "cell_type": "markdown",
   "metadata": {},
   "source": [
    "# Scores for lone LLMs"
   ]
  },
  {
   "cell_type": "code",
   "execution_count": null,
   "metadata": {},
   "outputs": [],
   "source": [
    "# model1 - gemma:2b\n",
    "f = open('input.json', 'r')\n",
    "data = json.load(f)\n",
    "data['model'] = \"gemma:2b\"\n",
    "f.close()\n",
    "with open('input.json', 'w') as json_file:\n",
    "    json.dump(data, json_file)\n",
    "\n",
    "\n",
    "outputs_gemma = []\n",
    "\n",
    "url = 'http://localhost:11434/api/generate'\n",
    "\n",
    "for input in inputs:\n",
    "    op = []\n",
    "    for _ in input:\n",
    "        f = open('input.json', 'r')\n",
    "        data = json.load(f)\n",
    "        data['prompt'] = _\n",
    "        response = requests.post(url, json=data)\n",
    "        assert response.status_code == 200\n",
    "        dictionary = json.loads(response.text)\n",
    "        op.append(dictionary['response'])\n",
    "        f.close()\n",
    "    print('row ok')\n",
    "    outputs_gemma.append(op)\n",
    "\n",
    "# writing outputs to one file\n",
    "with open('op_gemma.txt', 'w') as f:\n",
    "    for line in outputs_gemma:\n",
    "        f.write(f\"{line}\\n\")"
   ]
  },
  {
   "cell_type": "code",
   "execution_count": 10,
   "metadata": {},
   "outputs": [],
   "source": [
    "# model2 - orca-mini\n",
    "f = open('input.json', 'r')\n",
    "data = json.load(f)\n",
    "data['model'] = \"orca-mini\"\n",
    "f.close()\n",
    "with open('input.json', 'w') as json_file:\n",
    "    json.dump(data, json_file)\n",
    "\n",
    "\n",
    "outputs_orca = []\n",
    "\n",
    "url = 'http://localhost:11434/api/generate'\n",
    "\n",
    "for input in inputs:\n",
    "    op = []\n",
    "    for _ in input:\n",
    "        f = open('input.json', 'r')\n",
    "        data = json.load(f)\n",
    "        data['prompt'] = _\n",
    "        response = requests.post(url, json=data)\n",
    "        assert response.status_code == 200\n",
    "        dictionary = json.loads(response.text)\n",
    "        op.append(dictionary['response'])\n",
    "        f.close()\n",
    "    print('row ok')\n",
    "    outputs_orca.append(op)\n",
    "\n",
    "# writing outputs to one file\n",
    "with open('op_orca.txt', 'w') as f:\n",
    "    for line in outputs_orca:\n",
    "        f.write(f\"{line}\\n\")"
   ]
  },
  {
   "cell_type": "code",
   "execution_count": 15,
   "metadata": {},
   "outputs": [],
   "source": [
    "# model3 - tinyllama\n",
    "f = open('input.json', 'r')\n",
    "data = json.load(f)\n",
    "data['model'] = \"tinyllama\"\n",
    "f.close()\n",
    "with open('input.json', 'w') as json_file:\n",
    "    json.dump(data, json_file)\n",
    "\n",
    "\n",
    "outputs_tinyllama = []\n",
    "\n",
    "url = 'http://localhost:11434/api/generate'\n",
    "\n",
    "for input in inputs:\n",
    "    op = []\n",
    "    for _ in input:\n",
    "        f = open('input.json', 'r')\n",
    "        data = json.load(f)\n",
    "        data['prompt'] = _\n",
    "        response = requests.post(url, json=data)\n",
    "        assert response.status_code == 200\n",
    "        dictionary = json.loads(response.text)\n",
    "        op.append(dictionary['response'])\n",
    "        f.close()\n",
    "    print('row ok')\n",
    "    outputs_tinyllama.append(op)\n",
    "\n",
    "# writing outputs to one file\n",
    "with open('op_tinyllama.txt', 'w') as f:\n",
    "    for line in outputs_tinyllama:\n",
    "        f.write(f\"{line}\\n\")"
   ]
  },
  {
   "cell_type": "code",
   "execution_count": 1,
   "metadata": {},
   "outputs": [],
   "source": [
    "from bert_score import score\n",
    "import torch"
   ]
  },
  {
   "cell_type": "code",
   "execution_count": 3,
   "metadata": {},
   "outputs": [
    {
     "name": "stderr",
     "output_type": "stream",
     "text": [
      "Some weights of RobertaModel were not initialized from the model checkpoint at roberta-large and are newly initialized: ['roberta.pooler.dense.bias', 'roberta.pooler.dense.weight']\n",
      "You should probably TRAIN this model on a down-stream task to be able to use it for predictions and inference.\n"
     ]
    },
    {
     "name": "stdout",
     "output_type": "stream",
     "text": [
      "calculating scores...\n",
      "computing bert embedding.\n"
     ]
    },
    {
     "data": {
      "application/vnd.jupyter.widget-view+json": {
       "model_id": "c8c34263ebb3441aa8662879df29dddf",
       "version_major": 2,
       "version_minor": 0
      },
      "text/plain": [
       "  0%|          | 0/3 [00:00<?, ?it/s]"
      ]
     },
     "metadata": {},
     "output_type": "display_data"
    },
    {
     "name": "stdout",
     "output_type": "stream",
     "text": [
      "computing greedy matching.\n"
     ]
    },
    {
     "data": {
      "application/vnd.jupyter.widget-view+json": {
       "model_id": "c7170c4c93484aff8aeaf145fd47818f",
       "version_major": 2,
       "version_minor": 0
      },
      "text/plain": [
       "  0%|          | 0/2 [00:00<?, ?it/s]"
      ]
     },
     "metadata": {},
     "output_type": "display_data"
    },
    {
     "name": "stdout",
     "output_type": "stream",
     "text": [
      "done in 381.71 seconds, 0.26 sentences/sec\n",
      "Single BERT Score: 0.7802601456642151\n"
     ]
    }
   ],
   "source": [
    "with open(\"ref.txt\", \"r\", encoding=\"cp1252\") as file:\n",
    "    reference_sentences = file.readlines()\n",
    "\n",
    "with open(\"op.txt\", \"r\", encoding=\"cp1252\") as file:\n",
    "    candidate_sentences = file.readlines()\n",
    "\n",
    "P, R, F1 = score(candidate_sentences, reference_sentences,\n",
    "                 lang=\"en\", verbose=True)\n",
    "\n",
    "# Take the average of the scores\n",
    "avg_Precision = P.mean().item()\n",
    "avg_Recall = R.mean().item()\n",
    "avg_F1 = F1.mean().item()\n",
    "\n",
    "# Compute the single BERT score\n",
    "single_score = (avg_Precision + avg_Recall + avg_F1) / 3\n",
    "\n",
    "print(\"Single BERT Score:\", single_score)"
   ]
  },
  {
   "cell_type": "code",
   "execution_count": 5,
   "metadata": {},
   "outputs": [],
   "source": [
    "import matplotlib.pyplot as plt\n",
    "import numpy as np"
   ]
  },
  {
   "cell_type": "code",
   "execution_count": 7,
   "metadata": {},
   "outputs": [
    {
     "data": {
      "image/png": "[encoded data removed]",
      "text/plain": [
       "<Figure size 800x400 with 1 Axes>"
      ]
     },
     "metadata": {},
     "output_type": "display_data"
    }
   ],
   "source": [
    "\n",
    "plt.style.use('_mpl-gallery')\n",
    "\n",
    "# make data\n",
    "x = np.linspace(0, len(candidate_sentences), len(candidate_sentences))\n",
    "y = (P+R+F1)/3\n",
    "\n",
    "# plot\n",
    "fig, ax = plt.subplots(figsize=(8, 4))\n",
    "\n",
    "ax.plot(x, y, linewidth=2.0)\n",
    "\n",
    "plt.show()"
   ]
  },
  {
   "cell_type": "code",
   "execution_count": null,
   "metadata": {},
   "outputs": [],
   "source": [
    "# bleurt score\n"
   ]
  },
  {
   "cell_type": "code",
   "execution_count": 2,
   "metadata": {},
   "outputs": [
    {
     "ename": "OSError",
     "evalue": "[WinError 126] The specified module could not be found. Error loading \"C:\\Users\\neerz\\AppData\\Local\\Packages\\PythonSoftwareFoundation.Python.3.10_qbz5n2kfra8p0\\LocalCache\\local-packages\\Python310\\site-packages\\torch\\lib\\shm.dll\" or one of its dependencies.",
     "output_type": "error",
     "traceback": [
      "\u001b[1;31m---------------------------------------------------------------------------\u001b[0m",
      "\u001b[1;31mOSError\u001b[0m                                   Traceback (most recent call last)",
      "Cell \u001b[1;32mIn[2], line 1\u001b[0m\n\u001b[1;32m----> 1\u001b[0m \u001b[38;5;28;01mimport\u001b[39;00m \u001b[38;5;21;01mllm_blender\u001b[39;00m\n",
      "File \u001b[1;32m~\\LLM-Blender\\llm_blender\\__init__.py:1\u001b[0m\n\u001b[1;32m----> 1\u001b[0m \u001b[38;5;28;01mfrom\u001b[39;00m \u001b[38;5;21;01mllm_blender\u001b[39;00m\u001b[38;5;21;01m.\u001b[39;00m\u001b[38;5;21;01mblender\u001b[39;00m\u001b[38;5;21;01m.\u001b[39;00m\u001b[38;5;21;01mblender\u001b[39;00m \u001b[38;5;28;01mimport\u001b[39;00m Blender\n\u001b[0;32m      2\u001b[0m \u001b[38;5;28;01mfrom\u001b[39;00m \u001b[38;5;21;01mllm_blender\u001b[39;00m\u001b[38;5;21;01m.\u001b[39;00m\u001b[38;5;21;01mpair_ranker\u001b[39;00m\u001b[38;5;21;01m.\u001b[39;00m\u001b[38;5;21;01mconfig\u001b[39;00m \u001b[38;5;28;01mimport\u001b[39;00m RankerConfig\n\u001b[0;32m      3\u001b[0m \u001b[38;5;28;01mfrom\u001b[39;00m \u001b[38;5;21;01mllm_blender\u001b[39;00m\u001b[38;5;21;01m.\u001b[39;00m\u001b[38;5;21;01mgen_fuser\u001b[39;00m\u001b[38;5;21;01m.\u001b[39;00m\u001b[38;5;21;01mconfig\u001b[39;00m \u001b[38;5;28;01mimport\u001b[39;00m GenFuserConfig\n",
      "File \u001b[1;32m~\\LLM-Blender\\llm_blender\\blender\\blender.py:2\u001b[0m\n\u001b[0;32m      1\u001b[0m \u001b[38;5;28;01mimport\u001b[39;00m \u001b[38;5;21;01mlogging\u001b[39;00m\n\u001b[1;32m----> 2\u001b[0m \u001b[38;5;28;01mimport\u001b[39;00m \u001b[38;5;21;01mtorch\u001b[39;00m\n\u001b[0;32m      3\u001b[0m \u001b[38;5;28;01mimport\u001b[39;00m \u001b[38;5;21;01mnumpy\u001b[39;00m \u001b[38;5;28;01mas\u001b[39;00m \u001b[38;5;21;01mnp\u001b[39;00m\n\u001b[0;32m      4\u001b[0m \u001b[38;5;28;01mimport\u001b[39;00m \u001b[38;5;21;01mcopy\u001b[39;00m\n",
      "File \u001b[1;32m~\\AppData\\Local\\Packages\\PythonSoftwareFoundation.Python.3.10_qbz5n2kfra8p0\\LocalCache\\local-packages\\Python310\\site-packages\\torch\\__init__.py:141\u001b[0m\n\u001b[0;32m    139\u001b[0m                 err \u001b[38;5;241m=\u001b[39m ctypes\u001b[38;5;241m.\u001b[39mWinError(ctypes\u001b[38;5;241m.\u001b[39mget_last_error())\n\u001b[0;32m    140\u001b[0m                 err\u001b[38;5;241m.\u001b[39mstrerror \u001b[38;5;241m+\u001b[39m\u001b[38;5;241m=\u001b[39m \u001b[38;5;124mf\u001b[39m\u001b[38;5;124m'\u001b[39m\u001b[38;5;124m Error loading \u001b[39m\u001b[38;5;124m\"\u001b[39m\u001b[38;5;132;01m{\u001b[39;00mdll\u001b[38;5;132;01m}\u001b[39;00m\u001b[38;5;124m\"\u001b[39m\u001b[38;5;124m or one of its dependencies.\u001b[39m\u001b[38;5;124m'\u001b[39m\n\u001b[1;32m--> 141\u001b[0m                 \u001b[38;5;28;01mraise\u001b[39;00m err\n\u001b[0;32m    143\u001b[0m     kernel32\u001b[38;5;241m.\u001b[39mSetErrorMode(prev_error_mode)\n\u001b[0;32m    146\u001b[0m \u001b[38;5;28;01mdef\u001b[39;00m \u001b[38;5;21m_preload_cuda_deps\u001b[39m(lib_folder, lib_name):\n",
      "\u001b[1;31mOSError\u001b[0m: [WinError 126] The specified module could not be found. Error loading \"C:\\Users\\neerz\\AppData\\Local\\Packages\\PythonSoftwareFoundation.Python.3.10_qbz5n2kfra8p0\\LocalCache\\local-packages\\Python310\\site-packages\\torch\\lib\\shm.dll\" or one of its dependencies."
     ]
    }
   ],
   "source": [
    "import llm_blender"
   ]
  },
  {
   "cell_type": "code",
   "execution_count": 1,
   "metadata": {},
   "outputs": [
    {
     "ename": "OSError",
     "evalue": "[WinError 126] The specified module could not be found. Error loading \"C:\\Users\\neerz\\AppData\\Local\\Packages\\PythonSoftwareFoundation.Python.3.10_qbz5n2kfra8p0\\LocalCache\\local-packages\\Python310\\site-packages\\torch\\lib\\shm.dll\" or one of its dependencies.",
     "output_type": "error",
     "traceback": [
      "\u001b[1;31m---------------------------------------------------------------------------\u001b[0m",
      "\u001b[1;31mOSError\u001b[0m                                   Traceback (most recent call last)",
      "Cell \u001b[1;32mIn[1], line 1\u001b[0m\n\u001b[1;32m----> 1\u001b[0m \u001b[38;5;28;01mimport\u001b[39;00m \u001b[38;5;21;01mtorch\u001b[39;00m\n",
      "File \u001b[1;32m~\\AppData\\Local\\Packages\\PythonSoftwareFoundation.Python.3.10_qbz5n2kfra8p0\\LocalCache\\local-packages\\Python310\\site-packages\\torch\\__init__.py:141\u001b[0m\n\u001b[0;32m    139\u001b[0m                 err \u001b[38;5;241m=\u001b[39m ctypes\u001b[38;5;241m.\u001b[39mWinError(ctypes\u001b[38;5;241m.\u001b[39mget_last_error())\n\u001b[0;32m    140\u001b[0m                 err\u001b[38;5;241m.\u001b[39mstrerror \u001b[38;5;241m+\u001b[39m\u001b[38;5;241m=\u001b[39m \u001b[38;5;124mf\u001b[39m\u001b[38;5;124m'\u001b[39m\u001b[38;5;124m Error loading \u001b[39m\u001b[38;5;124m\"\u001b[39m\u001b[38;5;132;01m{\u001b[39;00mdll\u001b[38;5;132;01m}\u001b[39;00m\u001b[38;5;124m\"\u001b[39m\u001b[38;5;124m or one of its dependencies.\u001b[39m\u001b[38;5;124m'\u001b[39m\n\u001b[1;32m--> 141\u001b[0m                 \u001b[38;5;28;01mraise\u001b[39;00m err\n\u001b[0;32m    143\u001b[0m     kernel32\u001b[38;5;241m.\u001b[39mSetErrorMode(prev_error_mode)\n\u001b[0;32m    146\u001b[0m \u001b[38;5;28;01mdef\u001b[39;00m \u001b[38;5;21m_preload_cuda_deps\u001b[39m(lib_folder, lib_name):\n",
      "\u001b[1;31mOSError\u001b[0m: [WinError 126] The specified module could not be found. Error loading \"C:\\Users\\neerz\\AppData\\Local\\Packages\\PythonSoftwareFoundation.Python.3.10_qbz5n2kfra8p0\\LocalCache\\local-packages\\Python310\\site-packages\\torch\\lib\\shm.dll\" or one of its dependencies."
     ]
    }
   ],
   "source": [
    "import torch"
   ]
  },
  {
   "cell_type": "code",
   "execution_count": 2,
   "metadata": {},
   "outputs": [
    {
     "data": {
      "text/plain": [
       "['C:\\\\Program Files\\\\WindowsApps\\\\PythonSoftwareFoundation.Python.3.10_3.10.3056.0_x64__qbz5n2kfra8p0\\\\python310.zip',\n",
       " 'C:\\\\Program Files\\\\WindowsApps\\\\PythonSoftwareFoundation.Python.3.10_3.10.3056.0_x64__qbz5n2kfra8p0\\\\DLLs',\n",
       " 'C:\\\\Program Files\\\\WindowsApps\\\\PythonSoftwareFoundation.Python.3.10_3.10.3056.0_x64__qbz5n2kfra8p0\\\\lib',\n",
       " 'C:\\\\Users\\\\neerz\\\\AppData\\\\Local\\\\Microsoft\\\\WindowsApps\\\\PythonSoftwareFoundation.Python.3.10_qbz5n2kfra8p0',\n",
       " '',\n",
       " 'C:\\\\Users\\\\neerz\\\\AppData\\\\Local\\\\Packages\\\\PythonSoftwareFoundation.Python.3.10_qbz5n2kfra8p0\\\\LocalCache\\\\local-packages\\\\Python310\\\\site-packages',\n",
       " 'C:\\\\Users\\\\neerz\\\\AppData\\\\Local\\\\Packages\\\\PythonSoftwareFoundation.Python.3.10_qbz5n2kfra8p0\\\\LocalCache\\\\local-packages\\\\Python310\\\\site-packages\\\\win32',\n",
       " 'C:\\\\Users\\\\neerz\\\\AppData\\\\Local\\\\Packages\\\\PythonSoftwareFoundation.Python.3.10_qbz5n2kfra8p0\\\\LocalCache\\\\local-packages\\\\Python310\\\\site-packages\\\\win32\\\\lib',\n",
       " 'C:\\\\Users\\\\neerz\\\\AppData\\\\Local\\\\Packages\\\\PythonSoftwareFoundation.Python.3.10_qbz5n2kfra8p0\\\\LocalCache\\\\local-packages\\\\Python310\\\\site-packages\\\\Pythonwin',\n",
       " 'C:\\\\Program Files\\\\WindowsApps\\\\PythonSoftwareFoundation.Python.3.10_3.10.3056.0_x64__qbz5n2kfra8p0',\n",
       " 'C:\\\\Program Files\\\\WindowsApps\\\\PythonSoftwareFoundation.Python.3.10_3.10.3056.0_x64__qbz5n2kfra8p0\\\\lib\\\\site-packages']"
      ]
     },
     "execution_count": 2,
     "metadata": {},
     "output_type": "execute_result"
    }
   ],
   "source": [
    "import sys\n",
    "sys.path"
   ]
  },
  {
   "cell_type": "code",
   "execution_count": 1,
   "metadata": {},
   "outputs": [
    {
     "name": "stderr",
     "output_type": "stream",
     "text": [
      "C:\\Users\\neerz\\AppData\\Local\\Packages\\PythonSoftwareFoundation.Python.3.10_qbz5n2kfra8p0\\LocalCache\\local-packages\\Python310\\site-packages\\tqdm\\auto.py:21: TqdmWarning: IProgress not found. Please update jupyter and ipywidgets. See https://ipywidgets.readthedocs.io/en/stable/user_install.html\n",
      "  from .autonotebook import tqdm as notebook_tqdm\n"
     ]
    }
   ],
   "source": [
    "from llm_blender.blender.blender_utils import get_topk_candidates_from_ranks"
   ]
  },
  {
   "cell_type": "code",
   "execution_count": null,
   "metadata": {},
   "outputs": [],
   "source": [
    "from datasets import load_dataset\n",
    "dataset = load_dataset(\"AtlasUnified/atlas-converse\")"
   ]
  },
  {
   "cell_type": "code",
   "execution_count": 4,
   "metadata": {},
   "outputs": [
    {
     "name": "stderr",
     "output_type": "stream",
     "text": [
      "Cloning into 'atlas-converse'...\n"
     ]
    }
   ],
   "source": [
    "!git clone https://huggingface.co/datasets/AtlasUnified/atlas-converse"
   ]
  },
  {
   "cell_type": "code",
   "execution_count": 5,
   "metadata": {},
   "outputs": [],
   "source": [
    "import json\n",
    "with open('atlas-converse\\combined-convo.json', 'r') as f:\n",
    "    data = json.load(f)"
   ]
  },
  {
   "cell_type": "code",
   "execution_count": 28,
   "metadata": {},
   "outputs": [],
   "source": [
    "a = data[:2]"
   ]
  },
  {
   "cell_type": "code",
   "execution_count": 30,
   "metadata": {},
   "outputs": [
    {
     "data": {
      "text/plain": [
       "[{'id': '1',\n",
       "  'conversations': [{'from': 'user', 'value': 'What is applied anthropology?'},\n",
       "   {'from': 'AI',\n",
       "    'value': 'Applied anthropology refers to the practical application of anthropological theories and methods to solve contemporary social problems. It involves working with communities to understand and address issues such as poverty, health, education, and inequality.'},\n",
       "   {'from': 'user', 'value': 'Can you give me an example?'},\n",
       "   {'from': 'AI',\n",
       "    'value': \"Sure. An applied anthropologist might work with a community to improve access to healthcare services. They would use anthropological research methods to understand the cultural beliefs and practices that influence people's healthcare decisions, and then develop interventions that take those factors into account.\"},\n",
       "   {'from': 'user',\n",
       "    'value': 'How is applied anthropology different from traditional anthropology?'},\n",
       "   {'from': 'AI',\n",
       "    'value': 'Traditional anthropology is focused on the study of human cultures and societies, past and present, without necessarily seeking to solve specific contemporary problems. Applied anthropology, on the other hand, is more focused on using anthropological knowledge to address specific social issues.'},\n",
       "   {'from': 'user',\n",
       "    'value': 'That makes sense. Are there any ethical considerations in applied anthropology?'},\n",
       "   {'from': 'AI',\n",
       "    'value': 'Yes, ethical considerations are very important in applied anthropology. Because anthropologists are working with communities, they need to be aware of issues of power and representation. They also need to ensure that their work is culturally sensitive and does not harm the communities they are working with.'},\n",
       "   {'from': 'user',\n",
       "    'value': 'Thank you for explaining applied anthropology to me.'},\n",
       "   {'from': 'AI',\n",
       "    'value': \"You're welcome. Let me know if you have any other questions.\"}]},\n",
       " {'id': '2',\n",
       "  'conversations': [{'from': 'user',\n",
       "    'value': 'What is archaeological science?'},\n",
       "   {'from': 'AI',\n",
       "    'value': 'Archaeological science is the application of scientific techniques to the analysis of archaeological materials.'},\n",
       "   {'from': 'user', 'value': 'What kind of materials are analyzed?'},\n",
       "   {'from': 'AI',\n",
       "    'value': 'Archaeologists analyze a wide range of materials including bones, ceramics, metals, and plant remains.'},\n",
       "   {'from': 'user', 'value': 'What kind of scientific techniques are used?'},\n",
       "   {'from': 'AI',\n",
       "    'value': 'Some of the techniques used include radiocarbon dating, DNA analysis, and isotope analysis.'},\n",
       "   {'from': 'user',\n",
       "    'value': 'How do these techniques help us understand the past?'},\n",
       "   {'from': 'AI',\n",
       "    'value': 'These techniques can help us determine the age of artifacts, reconstruct past environments, and even provide insights into past human behavior.'},\n",
       "   {'from': 'user',\n",
       "    'value': \"That's fascinating. Thank you for explaining it to me.\"}]}]"
      ]
     },
     "execution_count": 30,
     "metadata": {},
     "output_type": "execute_result"
    }
   ],
   "source": [
    "a"
   ]
  },
  {
   "cell_type": "code",
   "execution_count": 25,
   "metadata": {},
   "outputs": [
    {
     "data": {
      "text/plain": [
       "9"
      ]
     },
     "execution_count": 25,
     "metadata": {},
     "output_type": "execute_result"
    }
   ],
   "source": [
    "# data[id]['conversations']\n",
    "len(data[1]['conversations'])"
   ]
  },
  {
   "cell_type": "code",
   "execution_count": 27,
   "metadata": {},
   "outputs": [
    {
     "name": "stdout",
     "output_type": "stream",
     "text": [
      "What is Classical Archaeology?\n",
      "What are some examples of Classical Archaeology?\n",
      "What methods do archaeologists use in Classical Archaeology?\n",
      "How does Classical Archaeology differ from other forms of Archaeology?\n",
      "Why is Classical Archaeology important?\n"
     ]
    }
   ],
   "source": [
    "for i in range(len(data[4]['conversations'])):\n",
    "    if i+1>=len(data[4]['conversations']) or data[4]['conversations'][i]['from'] == 'AI':\n",
    "        continue\n",
    "    print(data[4]['conversations'][i]['value'])"
   ]
  },
  {
   "cell_type": "code",
   "execution_count": 32,
   "metadata": {},
   "outputs": [
    {
     "data": {
      "text/plain": [
       "'Thank you for the information.'"
      ]
     },
     "execution_count": 32,
     "metadata": {},
     "output_type": "execute_result"
    }
   ],
   "source": [
    "data[4]['conversations'][i]['value']"
   ]
  },
  {
   "cell_type": "code",
   "execution_count": null,
   "metadata": {},
   "outputs": [],
   "source": [
    "\n",
    "url = 'http://127.0.0.1:11434/api/chat'\n",
    "f = open('input_chat.json', 'r')\n",
    "data = json.load(f)\n",
    "data['model'] = 'mistral'\n",
    "data['prompt'] = 'What\\'s the capital of India?'\n",
    "response = requests.post(url, json=data)\n",
    "assert response.status_code == 200\n",
    "dictionary = json.loads(response.text)"
   ]
  },
  {
   "cell_type": "code",
   "execution_count": 16,
   "metadata": {},
   "outputs": [],
   "source": [
    "import pathlib \n",
    "import shutil\n",
    "\n",
    "home_dir = pathlib.Path.home()\n",
    "dataset_dir = home_dir / \".cache\" / \"huggingface\" / \"datasets\"\n",
    "    \n",
    "shutil.rmtree(str(dataset_dir))"
   ]
  },
  {
   "cell_type": "code",
   "execution_count": 23,
   "metadata": {},
   "outputs": [],
   "source": [
    "from bleurt import score\n",
    "\n",
    "checkpoint = \"C:/Users/neerz/BLEURT-20/\"\n",
    "references = ['Applied anthropology is the application of anthropological knowledge, methods, and theories to real-world problems and issues. It involves using anthropological approaches to understand and address social, cultural, economic, and environmental challenges in various settings such as public health, education, business, and government.', 'One example of applied anthropology in action is in the field of public health. Anthropologists may conduct ethnographic research to understand the cultural practices, beliefs, and values that influence health behaviors in a particular community. This research can then be used to design culturally-sensitive interventions and communication strategies to address specific health issues.', 'Applied anthropology is different from traditional anthropology in several ways. First, it focuses on the practical application of anthropological knowledge to solve real-world problems. Traditional anthropology, on the other hand, is primarily concerned with the study of human cultures and societies from a theoretical perspective. Applied anthropology, on the other hand, focuses on the practical application of anthropological knowledge to solve specific problems in the real world. Additionally, applied anthropology often employs more quantitative methods, such as surveys and interviews, to gather data and make recommendations.', 'Yes, there are ethical considerations in applied anthropology. Applied anthropologists must consider the potential impacts of their interventions and research on the people and communities they work with. They must ensure that they obtain informed consent, respect cultural and societal norms and values, and avoid exploitation or discrimination. Additionally, anthropologists must ensure that their interventions are culturally appropriate and ethically sound.', \"You're welcome! Applied anthropology is a subfield of anthropology that focuses on using anthropological methods and theories to address real-world issues and solve practical problems. It can be applied to a variety of fields such as healthcare, education, and business, among others.\"]\n",
    "candidates = ['Applied anthropology refers to the practical application of anthropological theories and methods to solve contemporary social problems. It involves working with communities to understand and address issues such as poverty, health, education, and inequality.', \"Sure. An applied anthropologist might work with a community to improve access to healthcare services. They would use anthropological research methods to understand the cultural beliefs and practices that influence people's healthcare decisions, and then develop interventions that take those factors into account.\", 'Traditional anthropology is focused on the study of human cultures and societies, past and present, without necessarily seeking to solve specific contemporary problems. Applied anthropology, on the other hand, is more focused on using anthropological knowledge to address specific social issues.', 'Yes, ethical considerations are very important in applied anthropology. Because anthropologists are working with communities, they need to be aware of issues of power and representation. They also need to ensure that their work is culturally sensitive and does not harm the communities they are working with.', \"You're welcome. Let me know if you have any other questions.\"]"
   ]
  },
  {
   "cell_type": "code",
   "execution_count": 24,
   "metadata": {},
   "outputs": [
    {
     "name": "stdout",
     "output_type": "stream",
     "text": [
      "INFO:tensorflow:Reading checkpoint C:/Users/neerz/BLEURT-20/.\n"
     ]
    },
    {
     "name": "stderr",
     "output_type": "stream",
     "text": [
      "INFO:tensorflow:Reading checkpoint C:/Users/neerz/BLEURT-20/.\n"
     ]
    },
    {
     "name": "stdout",
     "output_type": "stream",
     "text": [
      "INFO:tensorflow:Config file found, reading.\n"
     ]
    },
    {
     "name": "stderr",
     "output_type": "stream",
     "text": [
      "INFO:tensorflow:Config file found, reading.\n"
     ]
    },
    {
     "name": "stdout",
     "output_type": "stream",
     "text": [
      "INFO:tensorflow:Will load checkpoint BLEURT-20\n"
     ]
    },
    {
     "name": "stderr",
     "output_type": "stream",
     "text": [
      "INFO:tensorflow:Will load checkpoint BLEURT-20\n"
     ]
    },
    {
     "name": "stdout",
     "output_type": "stream",
     "text": [
      "INFO:tensorflow:Loads full paths and checks that files exists.\n"
     ]
    },
    {
     "name": "stderr",
     "output_type": "stream",
     "text": [
      "INFO:tensorflow:Loads full paths and checks that files exists.\n"
     ]
    },
    {
     "name": "stdout",
     "output_type": "stream",
     "text": [
      "INFO:tensorflow:... name:BLEURT-20\n"
     ]
    },
    {
     "name": "stderr",
     "output_type": "stream",
     "text": [
      "INFO:tensorflow:... name:BLEURT-20\n"
     ]
    },
    {
     "name": "stdout",
     "output_type": "stream",
     "text": [
      "INFO:tensorflow:... bert_config_file:bert_config.json\n"
     ]
    },
    {
     "name": "stderr",
     "output_type": "stream",
     "text": [
      "INFO:tensorflow:... bert_config_file:bert_config.json\n"
     ]
    },
    {
     "name": "stdout",
     "output_type": "stream",
     "text": [
      "INFO:tensorflow:... max_seq_length:512\n"
     ]
    },
    {
     "name": "stderr",
     "output_type": "stream",
     "text": [
      "INFO:tensorflow:... max_seq_length:512\n"
     ]
    },
    {
     "name": "stdout",
     "output_type": "stream",
     "text": [
      "INFO:tensorflow:... vocab_file:None\n"
     ]
    },
    {
     "name": "stderr",
     "output_type": "stream",
     "text": [
      "INFO:tensorflow:... vocab_file:None\n"
     ]
    },
    {
     "name": "stdout",
     "output_type": "stream",
     "text": [
      "INFO:tensorflow:... do_lower_case:None\n"
     ]
    },
    {
     "name": "stderr",
     "output_type": "stream",
     "text": [
      "INFO:tensorflow:... do_lower_case:None\n"
     ]
    },
    {
     "name": "stdout",
     "output_type": "stream",
     "text": [
      "INFO:tensorflow:... sp_model:sent_piece\n"
     ]
    },
    {
     "name": "stderr",
     "output_type": "stream",
     "text": [
      "INFO:tensorflow:... sp_model:sent_piece\n"
     ]
    },
    {
     "name": "stdout",
     "output_type": "stream",
     "text": [
      "INFO:tensorflow:... dynamic_seq_length:True\n"
     ]
    },
    {
     "name": "stderr",
     "output_type": "stream",
     "text": [
      "INFO:tensorflow:... dynamic_seq_length:True\n"
     ]
    },
    {
     "name": "stdout",
     "output_type": "stream",
     "text": [
      "INFO:tensorflow:Creating BLEURT scorer.\n"
     ]
    },
    {
     "name": "stderr",
     "output_type": "stream",
     "text": [
      "INFO:tensorflow:Creating BLEURT scorer.\n"
     ]
    },
    {
     "name": "stdout",
     "output_type": "stream",
     "text": [
      "INFO:tensorflow:Creating SentencePiece tokenizer.\n"
     ]
    },
    {
     "name": "stderr",
     "output_type": "stream",
     "text": [
      "INFO:tensorflow:Creating SentencePiece tokenizer.\n"
     ]
    },
    {
     "name": "stdout",
     "output_type": "stream",
     "text": [
      "INFO:tensorflow:Creating SentencePiece tokenizer.\n"
     ]
    },
    {
     "name": "stderr",
     "output_type": "stream",
     "text": [
      "INFO:tensorflow:Creating SentencePiece tokenizer.\n"
     ]
    },
    {
     "name": "stdout",
     "output_type": "stream",
     "text": [
      "INFO:tensorflow:Will load model: C:/Users/neerz/BLEURT-20/sent_piece.model.\n"
     ]
    },
    {
     "name": "stderr",
     "output_type": "stream",
     "text": [
      "INFO:tensorflow:Will load model: C:/Users/neerz/BLEURT-20/sent_piece.model.\n"
     ]
    },
    {
     "name": "stdout",
     "output_type": "stream",
     "text": [
      "INFO:tensorflow:SentencePiece tokenizer created.\n"
     ]
    },
    {
     "name": "stderr",
     "output_type": "stream",
     "text": [
      "INFO:tensorflow:SentencePiece tokenizer created.\n"
     ]
    },
    {
     "name": "stdout",
     "output_type": "stream",
     "text": [
      "INFO:tensorflow:Creating Eager Mode predictor.\n"
     ]
    },
    {
     "name": "stderr",
     "output_type": "stream",
     "text": [
      "INFO:tensorflow:Creating Eager Mode predictor.\n"
     ]
    },
    {
     "name": "stdout",
     "output_type": "stream",
     "text": [
      "INFO:tensorflow:Loading model.\n"
     ]
    },
    {
     "name": "stderr",
     "output_type": "stream",
     "text": [
      "INFO:tensorflow:Loading model.\n"
     ]
    },
    {
     "name": "stdout",
     "output_type": "stream",
     "text": [
      "INFO:tensorflow:BLEURT initialized.\n"
     ]
    },
    {
     "name": "stderr",
     "output_type": "stream",
     "text": [
      "INFO:tensorflow:BLEURT initialized.\n"
     ]
    },
    {
     "name": "stdout",
     "output_type": "stream",
     "text": [
      "0.5740199565887452\n"
     ]
    }
   ],
   "source": [
    "scorer = score.BleurtScorer(checkpoint)\n",
    "scores = scorer.score(references=references, candidates=candidates)\n",
    "assert isinstance(scores, list)\n",
    "print(np.average(scores))"
   ]
  },
  {
   "cell_type": "code",
   "execution_count": 14,
   "metadata": {},
   "outputs": [
    {
     "data": {
      "text/plain": [
       "[0.6901140809059143,\n",
       " 0.5488781332969666,\n",
       " 0.6045728325843811,\n",
       " 0.5746968388557434,\n",
       " 0.4518378973007202]"
      ]
     },
     "execution_count": 14,
     "metadata": {},
     "output_type": "execute_result"
    }
   ],
   "source": [
    "scores"
   ]
  },
  {
   "cell_type": "code",
   "execution_count": 1,
   "metadata": {},
   "outputs": [],
   "source": [
    "import ast\n",
    "def file_to_matrix(filename):\n",
    "    liStr = []\n",
    "    with open(filename, \"r\", encoding=\"cp1252\", errors=\"ignore\") as file:\n",
    "        while True:\n",
    "            line = file.readline()\n",
    "            if not line:\n",
    "                break\n",
    "        # Process the line\n",
    "        liStr.append(line)\n",
    "    li = []\n",
    "    for _ in liStr:\n",
    "        li.append(ast.literal_eval(_))\n",
    "    return li"
   ]
  },
  {
   "cell_type": "code",
   "execution_count": 37,
   "metadata": {},
   "outputs": [],
   "source": [
    "def bleurt_scorer_atlas_converse(scorer, ans, dataset):\n",
    "    scores = []\n",
    "    for i in range(len(ans)):\n",
    "        # reference = []\n",
    "        # for j in range(len(dataset[i]['conversations'])):\n",
    "        #     if j+1>=len(dataset[i]['conversations']) or dataset[i]['conversations'][j]['from'] == 'AI':\n",
    "        #         continue\n",
    "        #     reference.append(dataset[i]['conversations'][j+1]['value'])\n",
    "        # print(reference)\n",
    "        s = scorer.score(references = dataset[i], candidates=ans[i])\n",
    "        assert isinstance(s, list)\n",
    "        scores.append(np.average(s))\n",
    "    return scores"
   ]
  },
  {
   "cell_type": "code",
   "execution_count": 31,
   "metadata": {},
   "outputs": [],
   "source": [
    "ans = [[\"Applied anthropology is a subfield of anthropology that focuses on using the knowledge, methods, and theories of anthropology to address real-world issues and practical problems. Instead of conducting research for the sake of academic discovery, applied anthropologists work to apply their findings to improve people's lives, resolve conflicts, develop policies, and promote cultural understanding.\", 'One example of applied anthropology in action is in the field of public health. Anthropologists with a background in applied anthropology may conduct research to understand the cultural practices and beliefs related to health issues in a particular community. This knowledge can be used to develop culturally-sensitive interventions to improve health outcomes and reduce health disparities.', \"Applied anthropology, also known as practical anthropology, is different from traditional anthropology in that it focuses on using anthropological knowledge and methods to address real-world problems and improve people's lives. Traditional anthropology, on the other hand, is more focused on the study of human societies and cultures for academic purposes. Applied anthropology, on the other hand, focuses on using anthropological knowledge and methods to address real-world problems and improve people's lives.\", 'Yes, there are ethical considerations in applied anthropology. Applied anthropologists must consider the potential impact of their interventions on the people and communities they work with, and must ensure that their interventions are culturally appropriate and respectful. Additionally, anthropologists must ensure that their research and interventions are conducted in a way that respects the autonomy and dignity of the people they work with.', \"You're welcome! Applied anthropology is a subfield of anthropology that focuses on using anthropological knowledge and methods to address real-world issues and improve people's lives. It involves working directly with communities, organizations, and governments to provide insights, recommendations, and solutions based on an understanding of cultural and social dynamics.\"], ['Archaeological science, also known as archaeoscience, is the application of scientific methods and techniques to the study of the past, particularly in the fields of archaeology, anthropology, and cultural heritage preservation. Archaeological scientists use a combination of fieldwork, laboratory analysis, and theoretical approaches to understand human cultures, societies, and environments from prehistoric times to the present.', 'Archaeologists analyze a wide range of materials to gain insights into past cultures and societies. Some common types of materials include artifacts, human remains, animal bones, plant remains, and environmental samples.', 'There are a variety of scientific techniques used in various fields such as biology, chemistry, physics, and archaeology. Some common techniques include DNA analysis, radiocarbon dating, X-ray diffraction, and spectroscopy.', 'These techniques help us understand the past by providing information about the age, composition, and structure of various materials and artifacts. For example, archaeologists can use techniques like radiocarbon dating to determine the age of artifacts, which can help them reconstruct historical events and timelines. X-ray diffraction, for example, can be used to study the structure of minerals and rocks, which can help us understand the composition and age of ancient artifacts. Similarly, DNA analysis can be used to study ancient human remains, which can help us understand their ancestry and migration']]\n",
    "dataset = [['Applied anthropology refers to the practical application of anthropological theories and methods to solve contemporary social problems. It involves working with communities to understand and address issues such as poverty, health, education, and inequality.', \"Sure. An applied anthropologist might work with a community to improve access to healthcare services. They would use anthropological research methods to understand the cultural beliefs and practices that influence people's healthcare decisions, and then develop interventions that take those factors into account.\", 'Traditional anthropology is focused on the study of human cultures and societies, past and present, without necessarily seeking to solve specific contemporary problems. Applied anthropology, on the other hand, is more focused on using anthropological knowledge to address specific social issues.', 'Yes, ethical considerations are very important in applied anthropology. Because anthropologists are working with communities, they need to be aware of issues of power and representation. They also need to ensure that their work is culturally sensitive and does not harm the communities they are working with.', \"You're welcome. Let me know if you have any other questions.\"], [\"Archaeological science is the application of scientific techniques to the analysis of archaeological materials.\", \"Archaeologists analyze a wide range of materials including bones, ceramics, metals, and plant remains.\", \"Some of the techniques used include radiocarbon dating, DNA analysis, and isotope analysis.\", \"These techniques can help us determine the age of artifacts, reconstruct past environments, and even provide insights into past human behavior.\"]]"
   ]
  },
  {
   "cell_type": "code",
   "execution_count": 36,
   "metadata": {},
   "outputs": [
    {
     "data": {
      "text/plain": [
       "[\"Applied anthropology is a subfield of anthropology that focuses on using the knowledge, methods, and theories of anthropology to address real-world issues and practical problems. Instead of conducting research for the sake of academic discovery, applied anthropologists work to apply their findings to improve people's lives, resolve conflicts, develop policies, and promote cultural understanding.\",\n",
       " 'One example of applied anthropology in action is in the field of public health. Anthropologists with a background in applied anthropology may conduct research to understand the cultural practices and beliefs related to health issues in a particular community. This knowledge can be used to develop culturally-sensitive interventions to improve health outcomes and reduce health disparities.',\n",
       " \"Applied anthropology, also known as practical anthropology, is different from traditional anthropology in that it focuses on using anthropological knowledge and methods to address real-world problems and improve people's lives. Traditional anthropology, on the other hand, is more focused on the study of human societies and cultures for academic purposes. Applied anthropology, on the other hand, focuses on using anthropological knowledge and methods to address real-world problems and improve people's lives.\",\n",
       " 'Yes, there are ethical considerations in applied anthropology. Applied anthropologists must consider the potential impact of their interventions on the people and communities they work with, and must ensure that their interventions are culturally appropriate and respectful. Additionally, anthropologists must ensure that their research and interventions are conducted in a way that respects the autonomy and dignity of the people they work with.',\n",
       " \"You're welcome! Applied anthropology is a subfield of anthropology that focuses on using anthropological knowledge and methods to address real-world issues and improve people's lives. It involves working directly with communities, organizations, and governments to provide insights, recommendations, and solutions based on an understanding of cultural and social dynamics.\"]"
      ]
     },
     "execution_count": 36,
     "metadata": {},
     "output_type": "execute_result"
    }
   ],
   "source": [
    "ans[0]"
   ]
  },
  {
   "cell_type": "code",
   "execution_count": 38,
   "metadata": {},
   "outputs": [],
   "source": [
    "s = bleurt_scorer_atlas_converse(scorer, ans, dataset)"
   ]
  },
  {
   "cell_type": "code",
   "execution_count": 2,
   "metadata": {},
   "outputs": [],
   "source": [
    "import json"
   ]
  },
  {
   "cell_type": "code",
   "execution_count": 3,
   "metadata": {},
   "outputs": [],
   "source": [
    "with open('atlas-converse\\combined-convo.json', 'r') as f:\n",
    "    dataset_atlas = json.load(f)\n",
    "f.close()"
   ]
  },
  {
   "cell_type": "code",
   "execution_count": 9,
   "metadata": {},
   "outputs": [],
   "source": [
    "with open('atlas-converse\\combined-convo_3.json', 'r') as f:\n",
    "    dataset_atlas.extend(json.load(f))\n",
    "f.close()"
   ]
  },
  {
   "cell_type": "code",
   "execution_count": 10,
   "metadata": {},
   "outputs": [
    {
     "data": {
      "text/plain": [
       "4718"
      ]
     },
     "execution_count": 10,
     "metadata": {},
     "output_type": "execute_result"
    }
   ],
   "source": [
    "len(dataset_atlas)"
   ]
  },
  {
   "cell_type": "code",
   "execution_count": 1,
   "metadata": {},
   "outputs": [],
   "source": [
    "li = [0.9, 0.4, 0.5, 0.6]\n",
    "filename = 'Experiment_Results\\\\test.txt'\n",
    "with open(filename, 'w') as f:\n",
    "    for line in li:\n",
    "        f.write(f\"{line}\\n\")\n",
    "f.close() "
   ]
  },
  {
   "cell_type": "code",
   "execution_count": null,
   "metadata": {},
   "outputs": [],
   "source": [
    "!ollama pull gemma:2b\n"
   ]
  },
  {
   "cell_type": "code",
   "execution_count": 5,
   "metadata": {},
   "outputs": [],
   "source": [
    "import json\n",
    "def dataset_init_atlas_converse():\n",
    "    dataset_atlas = []\n",
    "    with open('atlas-converse\\combined-convo.json', 'r') as f:\n",
    "        li = json.load(f)\n",
    "    f.close()\n",
    "    dataset_atlas.extend(li[:167])\n",
    "    with open('atlas-converse\\combined-convo_2.json', 'r') as f:\n",
    "        li = json.load(f)\n",
    "    f.close()\n",
    "    dataset_atlas.extend(li[:167])\n",
    "    with open('atlas-converse\\combined-convo_3.json', 'r') as f:\n",
    "        li = json.load(f)\n",
    "    f.close()\n",
    "    dataset_atlas.extend(li[:167])\n",
    "\n",
    "    return dataset_atlas"
   ]
  },
  {
   "cell_type": "code",
   "execution_count": 6,
   "metadata": {},
   "outputs": [],
   "source": [
    "li = dataset_init_atlas_converse()"
   ]
  },
  {
   "cell_type": "code",
   "execution_count": 7,
   "metadata": {},
   "outputs": [
    {
     "data": {
      "text/plain": [
       "501"
      ]
     },
     "execution_count": 7,
     "metadata": {},
     "output_type": "execute_result"
    }
   ],
   "source": [
    "len(li)"
   ]
  },
  {
   "cell_type": "code",
   "execution_count": 8,
   "metadata": {},
   "outputs": [],
   "source": [
    "filename = \"Experiment_Results/test.txt\"\n",
    "fa = []\n",
    "fused_answers = []\n",
    "for i in range(50):\n",
    "    fa.append(i)\n",
    "    if i%5==0:\n",
    "        with open(filename, 'a') as f:\n",
    "            for line in fa:\n",
    "                f.write(f\"{line}\\n\")\n",
    "        f.close()\n",
    "        fused_answers.extend(fa)\n",
    "        fa = []"
   ]
  },
  {
   "cell_type": "code",
   "execution_count": 1,
   "metadata": {},
   "outputs": [],
   "source": [
    "import ast\n",
    "def file_to_matrix(filename):\n",
    "    liStr = []\n",
    "    with open(filename, \"r\", encoding=\"cp1252\", errors=\"ignore\") as file:\n",
    "        while True:\n",
    "            line = file.readline()\n",
    "            if not line:\n",
    "                break\n",
    "        # Process the line\n",
    "        liStr.append(line)\n",
    "    li = []\n",
    "    for _ in liStr:\n",
    "        li.append(ast.literal_eval(_))\n",
    "    return li"
   ]
  },
  {
   "cell_type": "code",
   "execution_count": 2,
   "metadata": {},
   "outputs": [],
   "source": [
    "filename1 = \"Experiment_Results/exp_1.txt\"\n",
    "li = []\n",
    "with open(filename1, 'r') as file:\n",
    "    lines = file.readlines()\n",
    "    for line in lines:\n",
    "        li.append(ast.literal_eval(line))\n"
   ]
  },
  {
   "cell_type": "markdown",
   "metadata": {},
   "source": [
    "# Gotta redo the scores of exp 1 and 3"
   ]
  },
  {
   "cell_type": "code",
   "execution_count": 1,
   "metadata": {},
   "outputs": [],
   "source": [
    "import ast\n",
    "filename1 = \"Experiment_Results/exp_1.txt\"\n",
    "li = []\n",
    "with open(filename1, 'r') as file:\n",
    "    lines = file.readlines()\n",
    "    for line in lines:\n",
    "        li.append(ast.literal_eval(line))"
   ]
  },
  {
   "cell_type": "code",
   "execution_count": 1,
   "metadata": {},
   "outputs": [],
   "source": [
    "from datasets import load_dataset"
   ]
  },
  {
   "cell_type": "code",
   "execution_count": 2,
   "metadata": {},
   "outputs": [
    {
     "name": "stderr",
     "output_type": "stream",
     "text": [
      "C:\\Users\\neerz\\AppData\\Local\\Packages\\PythonSoftwareFoundation.Python.3.10_qbz5n2kfra8p0\\LocalCache\\local-packages\\Python310\\site-packages\\datasets\\load.py:1486: FutureWarning: The repository for conv_questions contains custom code which must be executed to correctly load the dataset. You can inspect the repository content at https://hf.co/datasets/conv_questions\n",
      "You can avoid this message in future by passing the argument `trust_remote_code=True`.\n",
      "Passing `trust_remote_code=True` will be mandatory to load this dataset from the next major release of `datasets`.\n",
      "  warnings.warn(\n"
     ]
    }
   ],
   "source": [
    "dataset = load_dataset(\"conv_questions\")\n",
    "train_data = dataset['train'].select(range(2))"
   ]
  },
  {
   "cell_type": "code",
   "execution_count": 5,
   "metadata": {},
   "outputs": [
    {
     "data": {
      "text/plain": [
       "'1969'"
      ]
     },
     "execution_count": 5,
     "metadata": {},
     "output_type": "execute_result"
    }
   ],
   "source": [
    "train_data[0]['answer_texts'][0]"
   ]
  },
  {
   "cell_type": "code",
   "execution_count": null,
   "metadata": {},
   "outputs": [],
   "source": [
    "from bleurt import score\n",
    "scorer = score.BleurtScorer(\"C:/Users/neerz/BLEURT-20/\")"
   ]
  },
  {
   "cell_type": "code",
   "execution_count": 6,
   "metadata": {},
   "outputs": [],
   "source": [
    "references = ['1969','(They Long to Be) Close to You','1983','anorexia nervosa','heart failure']\n",
    "candidates = ['The Carpenters signed with A&M Records in 1969.', \"The Carpenters' first hit was 'Meet Me in Montana', which was released in 1970.\", 'Karen Carpenter, the lead vocalist of The Carpenters, died on February 4, 1983, at the age of 32, due to complications from idiopathic cardiomyopathy and emphysema.', 'Karen Carpenter had anorexia nervosa, a serious eating disorder characterized by self-imposed starvation and excessive weight loss.', 'Karen Carpenter died on February 1, 1983, due to complications from anorexia nervosa and electrolyte imbalances.']\n"
   ]
  },
  {
   "cell_type": "code",
   "execution_count": null,
   "metadata": {},
   "outputs": [],
   "source": [
    "s = scorer.score(references=references, candidates=candidates)"
   ]
  },
  {
   "cell_type": "code",
   "execution_count": 7,
   "metadata": {},
   "outputs": [],
   "source": [
    "from evaluate import load\n",
    "bertscore = load(\"bertscore\")"
   ]
  },
  {
   "cell_type": "code",
   "execution_count": 8,
   "metadata": {},
   "outputs": [
    {
     "name": "stderr",
     "output_type": "stream",
     "text": [
      "C:\\Users\\neerz\\AppData\\Local\\Packages\\PythonSoftwareFoundation.Python.3.10_qbz5n2kfra8p0\\LocalCache\\local-packages\\Python310\\site-packages\\huggingface_hub\\file_download.py:1132: FutureWarning: `resume_download` is deprecated and will be removed in version 1.0.0. Downloads always resume when possible. If you want to force a new download, use `force_download=True`.\n",
      "  warnings.warn(\n",
      "Some weights of RobertaModel were not initialized from the model checkpoint at roberta-large and are newly initialized: ['roberta.pooler.dense.bias', 'roberta.pooler.dense.weight']\n",
      "You should probably TRAIN this model on a down-stream task to be able to use it for predictions and inference.\n"
     ]
    },
    {
     "name": "stdout",
     "output_type": "stream",
     "text": [
      "{'precision': [0.7847802639007568, 0.8113411068916321, 0.7451315522193909, 0.8458641767501831, 0.8096674680709839], 'recall': [0.8274049162864685, 0.8142207264900208, 0.8246516585350037, 0.9155497550964355, 0.8409191370010376], 'f1': [0.8055290579795837, 0.8127783536911011, 0.782877504825592, 0.8793284893035889, 0.8249974250793457], 'hashcode': 'roberta-large_L17_no-idf_version=0.3.12(hug_trans=4.40.1)'}\n"
     ]
    }
   ],
   "source": [
    "res = bertscore.compute(predictions = candidates, references = references, lang=\"en\")\n",
    "print(res)"
   ]
  },
  {
   "cell_type": "code",
   "execution_count": 11,
   "metadata": {},
   "outputs": [
    {
     "data": {
      "text/plain": [
       "0.8211021661758423"
      ]
     },
     "execution_count": 11,
     "metadata": {},
     "output_type": "execute_result"
    }
   ],
   "source": [
    "import numpy as np\n",
    "np.average(res['f1'])"
   ]
  },
  {
   "cell_type": "code",
   "execution_count": 6,
   "metadata": {},
   "outputs": [],
   "source": [
    "a = bertscore.compute(predictions = ['Messi is a soccer player'], references = ['Messi is a football player'], lang=\"en\")"
   ]
  },
  {
   "cell_type": "code",
   "execution_count": 7,
   "metadata": {},
   "outputs": [
    {
     "name": "stdout",
     "output_type": "stream",
     "text": [
      "{'precision': [0.9921432733535767], 'recall': [0.9921432733535767], 'f1': [0.9921432733535767], 'hashcode': 'roberta-large_L17_no-idf_version=0.3.12(hug_trans=4.40.1)'}\n"
     ]
    }
   ],
   "source": [
    "print(a)"
   ]
  },
  {
   "cell_type": "code",
   "execution_count": null,
   "metadata": {},
   "outputs": [],
   "source": []
  }
 ],
 "metadata": {
  "kernelspec": {
   "display_name": "Python 3",
   "language": "python",
   "name": "python3"
  },
  "language_info": {
   "codemirror_mode": {
    "name": "ipython",
    "version": 3
   },
   "file_extension": ".py",
   "mimetype": "text/x-python",
   "name": "python",
   "nbconvert_exporter": "python",
   "pygments_lexer": "ipython3",
   "version": "3.10.11"
  }
 },
 "nbformat": 4,
 "nbformat_minor": 2
}
